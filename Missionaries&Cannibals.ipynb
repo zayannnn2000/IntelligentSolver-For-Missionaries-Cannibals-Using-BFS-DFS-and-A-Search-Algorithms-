{
  "nbformat": 4,
  "nbformat_minor": 0,
  "metadata": {
    "colab": {
      "provenance": []
    },
    "kernelspec": {
      "name": "python3",
      "display_name": "Python 3"
    },
    "language_info": {
      "name": "python"
    }
  },
  "cells": [
    {
      "cell_type": "markdown",
      "source": [
        "**Import Liabraries**"
      ],
      "metadata": {
        "id": "l2fAMK7hypQ-"
      }
    },
    {
      "cell_type": "code",
      "source": [
        "from collections import deque\n",
        "import heapq"
      ],
      "metadata": {
        "id": "SFTP41OWyvrO"
      },
      "execution_count": null,
      "outputs": []
    },
    {
      "cell_type": "markdown",
      "source": [
        "**State class**"
      ],
      "metadata": {
        "id": "-PZc7AeCyzl-"
      }
    },
    {
      "cell_type": "code",
      "source": [
        "class State:\n",
        "    def __init__(self, missionaries, cannibals, boat):\n",
        "        self.missionaries = missionaries\n",
        "        self.cannibals = cannibals\n",
        "        self.boat = boat\n",
        "\n",
        "    def __eq__(self, other):\n",
        "        return (self.missionaries == other.missionaries and\n",
        "                self.cannibals == other.cannibals and\n",
        "                self.boat == other.boat)\n",
        "\n",
        "    def __hash__(self):\n",
        "        return hash((self.missionaries, self.cannibals, self.boat))\n",
        "\n",
        "    def __lt__(self, other):\n",
        "        return (self.missionaries, self.cannibals, self.boat) < (other.missionaries, other.cannibals, other.boat)\n",
        "\n",
        "    def is_valid(self):\n",
        "        if self.missionaries < 0 or self.cannibals < 0 or self.missionaries > 3 or self.cannibals > 3:\n",
        "            return False\n",
        "        if self.missionaries > 0 and self.missionaries < self.cannibals:\n",
        "            return False\n",
        "        if self.missionaries < 3 and (3 - self.missionaries) < (3 - self.cannibals):\n",
        "            return False\n",
        "        return True\n",
        "\n",
        "    def is_goal(self):\n",
        "        return self.missionaries == 0 and self.cannibals == 0 and self.boat == 0\n",
        "\n",
        "    def get_successors(self):\n",
        "        successors = []\n",
        "        if self.boat == 1:  # Boat is on the left bank\n",
        "            moves = [(-2, 0), (-1, 0), (0, -2), (0, -1), (-1, -1)]\n",
        "        else:  # Boat is on the right bank\n",
        "            moves = [(2, 0), (1, 0), (0, 2), (0, 1), (1, 1)]\n",
        "\n",
        "        for move in moves:\n",
        "            new_state = State(self.missionaries + move[0],\n",
        "                              self.cannibals + move[1],\n",
        "                              1 - self.boat)\n",
        "            if new_state.is_valid():\n",
        "                successors.append(new_state)\n",
        "        return successors\n",
        "\n",
        "    def __str__(self):\n",
        "        return f\"Missionaries: {self.missionaries}, Cannibals: {self.cannibals}, Boat: {self.boat}\""
      ],
      "metadata": {
        "id": "Gw5iczCWy7pq"
      },
      "execution_count": null,
      "outputs": []
    },
    {
      "cell_type": "markdown",
      "source": [
        "**Utility Function**"
      ],
      "metadata": {
        "id": "BFpKhuZSy_FH"
      }
    },
    {
      "cell_type": "code",
      "source": [
        "def reconstruct_path(parent_map, state):\n",
        "    path = []\n",
        "    while state:\n",
        "        path.append(state)\n",
        "        state = parent_map[state]\n",
        "    path.reverse()\n",
        "    return path"
      ],
      "metadata": {
        "id": "pKOUOwW1zDZm"
      },
      "execution_count": null,
      "outputs": []
    },
    {
      "cell_type": "markdown",
      "source": [
        "**BFS Implementation**"
      ],
      "metadata": {
        "id": "tfMMePNAzFye"
      }
    },
    {
      "cell_type": "code",
      "source": [
        "def bfs(start_state):\n",
        "    frontier = deque([start_state])\n",
        "    explored = set()\n",
        "    parent_map = {start_state: None}\n",
        "\n",
        "    while frontier:\n",
        "        state = frontier.popleft()\n",
        "        if state.is_goal():\n",
        "            return reconstruct_path(parent_map, state)\n",
        "        explored.add(state)\n",
        "\n",
        "        for neighbor in state.get_successors():\n",
        "            if neighbor not in explored and neighbor not in frontier:\n",
        "                parent_map[neighbor] = state\n",
        "                frontier.append(neighbor)\n",
        "    return None"
      ],
      "metadata": {
        "id": "gGrcYsqlzKNX"
      },
      "execution_count": null,
      "outputs": []
    },
    {
      "cell_type": "markdown",
      "source": [
        "**DFS Implementation**"
      ],
      "metadata": {
        "id": "MXHccKAizNG1"
      }
    },
    {
      "cell_type": "code",
      "source": [
        "def dfs(start_state):\n",
        "    frontier = [start_state]\n",
        "    explored = set()\n",
        "    parent_map = {start_state: None}\n",
        "\n",
        "    while frontier:\n",
        "        state = frontier.pop()\n",
        "        if state.is_goal():\n",
        "            return reconstruct_path(parent_map, state)\n",
        "        explored.add(state)\n",
        "\n",
        "        for neighbor in state.get_successors():\n",
        "            if neighbor not in explored and neighbor not in frontier:\n",
        "                parent_map[neighbor] = state\n",
        "                frontier.append(neighbor)\n",
        "    return None"
      ],
      "metadata": {
        "id": "Ys4S5burzQiF"
      },
      "execution_count": null,
      "outputs": []
    },
    {
      "cell_type": "markdown",
      "source": [
        "**A* Implementation**"
      ],
      "metadata": {
        "id": "kpUB8gvvzTRL"
      }
    },
    {
      "cell_type": "code",
      "source": [
        "def heuristic(state):\n",
        "    return state.missionaries + state.cannibals\n",
        "\n",
        "def a_star(start_state):\n",
        "    frontier = []\n",
        "    heapq.heappush(frontier, (0, start_state))\n",
        "    explored = set()\n",
        "    parent_map = {start_state: None}\n",
        "    cost_map = {start_state: 0}\n",
        "\n",
        "    while frontier:\n",
        "        _, state = heapq.heappop(frontier)\n",
        "        if state.is_goal():\n",
        "            return reconstruct_path(parent_map, state)\n",
        "        explored.add(state)\n",
        "\n",
        "        for neighbor in state.get_successors():\n",
        "            new_cost = cost_map[state] + 1\n",
        "            if neighbor not in explored or new_cost < cost_map.get(neighbor, float('inf')):\n",
        "                cost_map[neighbor] = new_cost\n",
        "                priority = new_cost + heuristic(neighbor)\n",
        "                heapq.heappush(frontier, (priority, neighbor))\n",
        "                parent_map[neighbor] = state\n",
        "    return None"
      ],
      "metadata": {
        "id": "dhL3OWe_zbyX"
      },
      "execution_count": null,
      "outputs": []
    },
    {
      "cell_type": "markdown",
      "source": [
        "**User Interface**"
      ],
      "metadata": {
        "id": "LEN8UjnHzeLI"
      }
    },
    {
      "cell_type": "code",
      "source": [
        "def main():\n",
        "    print(\"Choose the search algorithm:\")\n",
        "    print(\"1. Breadth-First Search (BFS)\")\n",
        "    print(\"2. Depth-First Search (DFS)\")\n",
        "    print(\"3. A* Search\")\n",
        "    choice = input(\"Enter your choice (1/2/3): \")\n",
        "\n",
        "    start_state = State(3, 3, 1)\n",
        "\n",
        "    if choice == '1':\n",
        "        solution = bfs(start_state)\n",
        "    elif choice == '2':\n",
        "        solution = dfs(start_state)\n",
        "    elif choice == '3':\n",
        "        solution = a_star(start_state)\n",
        "    else:\n",
        "        print(\"Choice is not correct!\")\n",
        "        return\n",
        "\n",
        "    if solution:\n",
        "        print(\"Solution found:\")\n",
        "        for state in solution:\n",
        "            print(state)\n",
        "    else:\n",
        "        print(\"No solution found!\")\n",
        "\n",
        "if __name__ == \"__main__\":\n",
        "    main()"
      ],
      "metadata": {
        "colab": {
          "base_uri": "https://localhost:8080/"
        },
        "id": "iWmmhHCczh9Q",
        "outputId": "69ed3951-3d17-4a09-b60c-f8c9239cf1c7"
      },
      "execution_count": null,
      "outputs": [
        {
          "output_type": "stream",
          "name": "stdout",
          "text": [
            "Choose the search algorithm:\n",
            "1. Breadth-First Search (BFS)\n",
            "2. Depth-First Search (DFS)\n",
            "3. A* Search\n",
            "Enter your choice (1/2/3): 3\n",
            "Solution found:\n",
            "Missionaries: 3, Cannibals: 3, Boat: 1\n",
            "Missionaries: 3, Cannibals: 1, Boat: 0\n",
            "Missionaries: 3, Cannibals: 2, Boat: 1\n",
            "Missionaries: 3, Cannibals: 0, Boat: 0\n",
            "Missionaries: 3, Cannibals: 1, Boat: 1\n",
            "Missionaries: 1, Cannibals: 1, Boat: 0\n",
            "Missionaries: 2, Cannibals: 2, Boat: 1\n",
            "Missionaries: 0, Cannibals: 2, Boat: 0\n",
            "Missionaries: 0, Cannibals: 3, Boat: 1\n",
            "Missionaries: 0, Cannibals: 1, Boat: 0\n",
            "Missionaries: 0, Cannibals: 2, Boat: 1\n",
            "Missionaries: 0, Cannibals: 0, Boat: 0\n"
          ]
        }
      ]
    }
  ]
}